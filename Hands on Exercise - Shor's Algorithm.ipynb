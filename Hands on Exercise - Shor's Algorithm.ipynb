{
 "cells": [
  {
   "cell_type": "markdown",
   "id": "b147554a",
   "metadata": {},
   "source": []
  },
  {
   "cell_type": "markdown",
   "id": "e348abe9",
   "metadata": {},
   "source": [
    "# QuCode 21 Days Challenge\n",
    "\n",
    "## Hands on Exercise\n",
    "\n",
    "Hello, Hola, ನಮಸ್ಕಾರ, నమస్తే, નમસ્તે, नमस्ते, ਸਤ ਸ੍ਰੀ ਅਕਾਲ, নমস্কার...\n",
    "\n",
    "**Shor's algorithm in Qiskit**.  \n",
    "\n",
    "Once you’re comfortable with this smaller task, you can approach the **Shor’s algorithm implementation**.\n"
   ]
  },
  {
   "cell_type": "markdown",
   "id": "78bee8dd",
   "metadata": {},
   "source": [
    "## Qiskit Version\n",
    "\n",
    "Make sure you have Installed <code>Qiskit</code> and <code>Qiskit-Aer</code>\n",
    "\n",
    "Version of <code>Qiskit</code> used in this Notebook is `2.1.1` and Version of <code>Qiskit-Aer</code> is `0.17.1`\n",
    "\n",
    "Run the following cell to check version. As long as version of <code>Qiskit</code> is `>=2.0.0` and Version of <code>Qiskit-Aer</code> is `>=0.17.0`, it should work fine"
   ]
  },
  {
   "cell_type": "code",
   "execution_count": 1,
   "id": "ed524547",
   "metadata": {},
   "outputs": [
    {
     "data": {
      "text/plain": [
       "'2.2.0'"
      ]
     },
     "execution_count": 1,
     "metadata": {},
     "output_type": "execute_result"
    }
   ],
   "source": [
    "import qiskit\n",
    "\n",
    "qiskit.version.get_version_info()"
   ]
  },
  {
   "cell_type": "code",
   "execution_count": 2,
   "id": "7f49bdf2",
   "metadata": {},
   "outputs": [
    {
     "name": "stdout",
     "output_type": "stream",
     "text": [
      "Requirement already satisfied: qiskit_aer in c:\\work\\quantum\\assignment\\qiskit-env\\lib\\site-packages (0.17.2)\n",
      "Requirement already satisfied: qiskit>=1.1.0 in c:\\work\\quantum\\assignment\\qiskit-env\\lib\\site-packages (from qiskit_aer) (2.2.0)\n",
      "Requirement already satisfied: numpy>=1.16.3 in c:\\work\\quantum\\assignment\\qiskit-env\\lib\\site-packages (from qiskit_aer) (2.3.3)\n",
      "Requirement already satisfied: scipy>=1.0 in c:\\work\\quantum\\assignment\\qiskit-env\\lib\\site-packages (from qiskit_aer) (1.16.2)\n",
      "Requirement already satisfied: psutil>=5 in c:\\work\\quantum\\assignment\\qiskit-env\\lib\\site-packages (from qiskit_aer) (7.0.0)\n",
      "Requirement already satisfied: python-dateutil>=2.8.0 in c:\\work\\quantum\\assignment\\qiskit-env\\lib\\site-packages (from qiskit_aer) (2.9.0.post0)\n",
      "Requirement already satisfied: six>=1.5 in c:\\work\\quantum\\assignment\\qiskit-env\\lib\\site-packages (from python-dateutil>=2.8.0->qiskit_aer) (1.17.0)\n",
      "Requirement already satisfied: rustworkx>=0.15.0 in c:\\work\\quantum\\assignment\\qiskit-env\\lib\\site-packages (from qiskit>=1.1.0->qiskit_aer) (0.17.1)\n",
      "Requirement already satisfied: dill>=0.3 in c:\\work\\quantum\\assignment\\qiskit-env\\lib\\site-packages (from qiskit>=1.1.0->qiskit_aer) (0.4.0)\n",
      "Requirement already satisfied: stevedore>=3.0.0 in c:\\work\\quantum\\assignment\\qiskit-env\\lib\\site-packages (from qiskit>=1.1.0->qiskit_aer) (5.5.0)\n",
      "Requirement already satisfied: typing-extensions in c:\\work\\quantum\\assignment\\qiskit-env\\lib\\site-packages (from qiskit>=1.1.0->qiskit_aer) (4.15.0)\n"
     ]
    }
   ],
   "source": [
    "! pip install qiskit_aer"
   ]
  },
  {
   "cell_type": "code",
   "execution_count": 3,
   "id": "260650a3",
   "metadata": {},
   "outputs": [
    {
     "data": {
      "text/plain": [
       "'0.17.2'"
      ]
     },
     "execution_count": 3,
     "metadata": {},
     "output_type": "execute_result"
    }
   ],
   "source": [
    "import qiskit_aer\n",
    "\n",
    "qiskit_aer.version.get_version_info()"
   ]
  },
  {
   "cell_type": "markdown",
   "id": "13853c93",
   "metadata": {},
   "source": [
    "### Task Example\n",
    "\n",
    "Create n-qubit GHZ State"
   ]
  },
  {
   "cell_type": "markdown",
   "id": "1b1adef0",
   "metadata": {},
   "source": []
  },
  {
   "cell_type": "code",
   "execution_count": 4,
   "id": "d6c930a6",
   "metadata": {},
   "outputs": [],
   "source": [
    "def simulate_circuit(qc, shots=1024):\n",
    "    \"\"\"Simulate the given circuit and return measurement counts.\"\"\"\n",
    "    simulator = AerSimulator()\n",
    "    compiled_circuit = transpile(qc, simulator)\n",
    "    job = simulator.run(compiled_circuit, shots=shots)\n",
    "    result = job.result()\n",
    "    counts = result.get_counts()\n",
    "    return counts"
   ]
  },
  {
   "cell_type": "markdown",
   "id": "bdef9b7d",
   "metadata": {},
   "source": [
    "### Solution Example"
   ]
  },
  {
   "cell_type": "code",
   "execution_count": 5,
   "id": "eaa19816",
   "metadata": {},
   "outputs": [
    {
     "name": "stdout",
     "output_type": "stream",
     "text": [
      "Generated GHZ circuit:\n",
      "     ┌───┐             ┌─┐   \n",
      "q_0: ┤ H ├──■────■─────┤M├───\n",
      "     └───┘┌─┴─┐  │  ┌─┐└╥┘   \n",
      "q_1: ─────┤ X ├──┼──┤M├─╫────\n",
      "          └───┘┌─┴─┐└╥┘ ║ ┌─┐\n",
      "q_2: ──────────┤ X ├─╫──╫─┤M├\n",
      "               └───┘ ║  ║ └╥┘\n",
      "c: 3/════════════════╩══╩══╩═\n",
      "                     1  0  2 \n",
      "Measurement counts: {'000': 537, '111': 487}\n"
     ]
    }
   ],
   "source": [
    "# ghz_state_solution.py\n",
    "\n",
    "from qiskit import QuantumCircuit,transpile\n",
    "from qiskit_aer import Aer\n",
    "\n",
    "def build_ghz_circuit(num_qubits):\n",
    "    qc = QuantumCircuit(num_qubits, num_qubits)\n",
    "\n",
    "    # Apply Hadamard on first qubit\n",
    "    qc.h(0)\n",
    "\n",
    "    # Apply CNOT chain from first qubit to all others\n",
    "    for i in range(1, num_qubits):\n",
    "        qc.cx(0, i)\n",
    "\n",
    "    # Measure all qubits\n",
    "    qc.measure(range(num_qubits), range(num_qubits))\n",
    "\n",
    "    return qc\n",
    "\n",
    "\n",
    "def simulate_circuit(qc, shots=1024):\n",
    "    sim = Aer.get_backend(\"qasm_simulator\")\n",
    "    transpiled = transpile(qc, backend=sim)\n",
    "    result = sim.run(transpiled, shots=shots).result()\n",
    "    counts = result.get_counts()\n",
    "    return counts\n",
    "\n",
    "\n",
    "num_qubits = 3  # try 4 as well\n",
    "qc = build_ghz_circuit(num_qubits)\n",
    "print(\"Generated GHZ circuit:\")\n",
    "print(qc.draw())\n",
    "\n",
    "counts = simulate_circuit(qc, shots=1024)\n",
    "print(\"Measurement counts:\", counts)\n"
   ]
  },
  {
   "cell_type": "markdown",
   "id": "136de8da",
   "metadata": {},
   "source": [
    "# Implementation of Shor's Algorithm"
   ]
  },
  {
   "cell_type": "markdown",
   "id": "337b5225",
   "metadata": {},
   "source": [
    "## Imports and Helper Functions\n",
    "\n",
    "This section is just some **helper math functions** that we’ll use later in Shor’s algorithm. Nothing quantum yet, just number crunching.  \n",
    "\n",
    "- `is_coprime(a, b)`: checks if two numbers have no common factors (other than 1).  \n",
    "- `continued_fraction_expansion(x, max_den)`: takes a fraction (as a float) and finds a “nice” fraction that’s close to it using continued fractions. We’ll use this to estimate the order later.  \n",
    "- `fraction_from_phase(phase, qcount)`: converts the measurement result from the quantum circuit (which looks like a fraction of the form *y/2^qcount*) into a simpler fraction *s/r*.  \n",
    "- `get_most_likely_result(counts)`: when we run a quantum circuit, we get lots of possible outcomes with different probabilities. This function just picks the outcome that appeared the most.  \n",
    "\n",
    "No tasks here — this section is already implemented. You can just use these functions as tools when working on the rest of the code."
   ]
  },
  {
   "cell_type": "code",
   "execution_count": 137,
   "id": "356ce242",
   "metadata": {},
   "outputs": [],
   "source": [
    "# shor_from_scratch_qiskit_task.py\n",
    "\n",
    "import math\n",
    "import numpy as np\n",
    "from fractions import Fraction\n",
    "from collections import Counter\n",
    "\n",
    "from qiskit import QuantumCircuit, transpile\n",
    "from qiskit_aer import AerSimulator\n",
    "from qiskit.circuit.library import QFT, UnitaryGate\n",
    "\n",
    "\n",
    "# ============================================================\n",
    "# Section 1: Helper math functions (already implemented)\n",
    "# ============================================================\n",
    "\n",
    "def is_coprime(a, b):\n",
    "    return math.gcd(a, b) == 1\n",
    "\n",
    "def continued_fraction_expansion(x, max_den=1_000_000):\n",
    "    frac = Fraction(x).limit_denominator(max_den)\n",
    "    return frac.numerator, frac.denominator\n",
    "\n",
    "def fraction_from_phase(phase, qcount):\n",
    "    y_over_2q = phase / (2**qcount)\n",
    "    num, den = continued_fraction_expansion(y_over_2q, max_den=2**qcount)\n",
    "    return num, den\n",
    "\n",
    "def get_most_likely_result(counts):\n",
    "    measured_str = Counter(counts).most_common(1)[0][0]\n",
    "    return int(measured_str, 2), measured_str\n"
   ]
  },
  {
   "cell_type": "markdown",
   "id": "536f24a0",
   "metadata": {},
   "source": [
    "## Quantum Blocks\n",
    "\n",
    "Now we get into the **quantum parts** of Shor’s algorithm. These functions are the building blocks that we’ll later assemble into the full order-finding circuit.  \n",
    "\n",
    "Here’s what each function is supposed to do:  \n",
    "\n",
    "- **`build_multiplication_mod_matrix(a, N)`**  \n",
    "  Creates the unitary matrix `U_a` that multiplies a number `x` by `a (mod N)`.  \n",
    "  - If `x < N`, we map `|x⟩ → |(a·x mod N)⟩`.  \n",
    "  - If `x ≥ N`, we just leave it unchanged.  \n",
    "   **Task:** Construct this matrix explicitly as a NumPy array of size `2^n × 2^n`.  \n",
    "\n",
    "- **`controlled_powered_unitary_gate(U_matrix, power)`**  \n",
    "  We often need to apply `U_a^power`. Instead of multiplying `a` many times, we can raise the unitary matrix to a power.  \n",
    "   **Task:** Use `numpy.linalg.matrix_power` to compute `U^power`, then wrap it with `UnitaryGate` so it can be used in a circuit.  \n",
    "\n",
    "- **`inverse_qft_circuit(n)`**  \n",
    "  The Quantum Fourier Transform (QFT) is a key part of phase estimation. Here, we need its inverse. Luckily, Qiskit already has a QFT circuit built-in.  \n",
    "   **Task:** Return `QFT(num_qubits=n, inverse=True, do_swaps=True)`.  \n",
    "\n",
    "---\n",
    "\n",
    "**References:**  \n",
    "- Qiskit textbook: [Quantum Fourier Transform](https://qiskit.org/textbook/ch-algorithms/quantum-fourier-transform.html)  \n",
    "- IBM Qiskit docs: [UnitaryGate](https://docs.quantum.ibm.com/api/qiskit/circuit_library/UnitaryGate)  \n",
    "- For modular exponentiation intuition: [Shor’s Algorithm explained](https://quantum.country/search#shor)  \n",
    "\n",
    " This section is where you’ll implement the missing puzzle pieces needed for the quantum part of Shor’s algorithm."
   ]
  },
  {
   "cell_type": "code",
   "execution_count": 138,
   "id": "e544ea89",
   "metadata": {},
   "outputs": [],
   "source": [
    "# ============================================================\n",
    "# Section 2: Quantum building blocks (tasks to complete)\n",
    "# ============================================================\n",
    "\n",
    "def build_multiplication_mod_matrix(a, N):\n",
    "    \"\"\"\n",
    "    Task: Build the modular multiplication matrix U_a of size 2^n x 2^n.\n",
    "    |x> -> |(a*x) mod N>  for x < N,\n",
    "    |x> -> |x>            for x >= N\n",
    "    \"\"\"\n",
    "    n = math.ceil(math.log2(N))\n",
    "    dim = 2 ** n\n",
    "    U = np.zeros((dim, dim), dtype=complex)\n",
    "    for x in range(dim):\n",
    "        if x < N:\n",
    "            y = (a * x) % N\n",
    "            U[y, x] = 1\n",
    "        else:\n",
    "            U[x, x] = 1  # Leave unchanged for x >= N\n",
    "    return U  # <-- replace with matrix construction\n",
    "\n",
    "\n",
    "def controlled_powered_unitary_gate(U_matrix, power):\n",
    "    \"\"\"\n",
    "    Task: Return a UnitaryGate for U^power.\n",
    "    Hint: use numpy.linalg.matrix_power and UnitaryGate.\n",
    "    \"\"\"\n",
    "# Build U^power as a Gate\n",
    "    U_powered = np.linalg.matrix_power(U_matrix, power)\n",
    "    # Wrap as a Qiskit gate\n",
    "    gate = UnitaryGate(U_powered)\n",
    "    # Return the controlled version\n",
    "    return gate.control()\n",
    "\n",
    "\n",
    "def inverse_qft_circuit(n):\n",
    "    \"\"\"Return the inverse QFT circuit for n qubits.\"\"\"\n",
    "    return QFT(num_qubits=n, inverse=True, do_swaps=True)"
   ]
  },
  {
   "cell_type": "markdown",
   "id": "44e45e77",
   "metadata": {},
   "source": [
    "## Shor's order finding\n",
    "\n",
    "This is the heart of Shor's algorithm — the **quantum order-finding routine**. Here’s what’s happening step by step:\n",
    "\n",
    "1. **Input validation**  \n",
    "   - The number `a` must satisfy `1 < a < N` and be coprime with `N`.  \n",
    "   - The code calculates `n`, the number of qubits needed for the target register.  \n",
    "   - The counting register size `qcount` is usually `2 * n` to get good phase estimation resolution.\n",
    "\n",
    "2. **Build the modular multiplication unitary**  \n",
    "   - `U = build_multiplication_mod_matrix(a, N)` is supposed to create the matrix that maps `|x⟩ → |a·x mod N⟩`.  \n",
    "   - **Task:** You need to implement this matrix in Section 2.\n",
    "\n",
    "3. **Circuit setup**  \n",
    "   - We create a quantum circuit with `qcount + n` qubits: counting register + target register.  \n",
    "   - The target register is initialized to `|1⟩`.  \n",
    "   - All counting qubits are put in superposition with Hadamard gates.\n",
    "\n",
    "4. **Controlled modular exponentiation**  \n",
    "   - For each counting qubit, we apply a **controlled-U^(2^j)** gate.  \n",
    "   - This is the quantum part that encodes the periodicity of `a^x mod N` in the phases of the counting register.  \n",
    "   - **Task:** You need to implement these controlled gates using `controlled_powered_unitary_gate`.\n",
    "\n",
    "5. **Inverse Quantum Fourier Transform (QFT)**  \n",
    "   - After encoding the periodicity, we apply the inverse QFT to the counting register.  \n",
    "   - This transforms the phase information into a measurable probability distribution.  \n",
    "   - **Task:** Implement this using `inverse_qft_circuit`.\n",
    "\n",
    "6. **Measurement**  \n",
    "   - The counting register is measured to obtain a bitstring `y`.  \n",
    "   - **Task:** Add the measurement step to the circuit.\n",
    "\n",
    "7. **Classical post-processing**  \n",
    "   - The measured `y` is converted to a fraction `s/r_candidate` using continued fractions.  \n",
    "   - We then try multiples of `r_candidate` to check if `a^r ≡ 1 mod N` and find the order `r`.\n",
    "\n",
    "---\n",
    "\n",
    "**References and further reading**:  \n",
    "- Qiskit Textbook: [Shor's Algorithm](https://qiskit.org/textbook/ch-algorithms/shor.html)  \n",
    "- Quantum Fourier Transform: [QFT explanation](https://qiskit.org/textbook/ch-algorithms/quantum-fourier-transform.html)  \n",
    "- IBM Qiskit Docs: [QuantumCircuit](https://qiskit.org/documentation/stubs/qiskit.circuit.QuantumCircuit.html)"
   ]
  },
  {
   "cell_type": "code",
   "execution_count": 139,
   "id": "22217271",
   "metadata": {},
   "outputs": [],
   "source": [
    "# ============================================================\n",
    "# Section 3: Shor's order finding (main quantum part)\n",
    "# ============================================================\n",
    "\n",
    "def shor_order_finding(N, a, qcount=None, shots=1024, seed_sim=42, verbose=True):\n",
    "    if not (1 < a < N) or math.gcd(a, N) != 1:\n",
    "        raise ValueError(\"a must be 1 < a < N and coprime to N\")\n",
    "\n",
    "    n = math.ceil(math.log2(N))\n",
    "    if qcount is None:\n",
    "        qcount = 2 * n\n",
    "\n",
    "    # Task: Build U_a matrix\n",
    "    U = build_multiplication_mod_matrix(a, N)\n",
    "\n",
    "    total_qubits = qcount + n\n",
    "    qc = QuantumCircuit(total_qubits, qcount)\n",
    "\n",
    "    counting_qubits = list(range(qcount))\n",
    "    target_qubits = list(range(qcount, qcount + n))\n",
    "\n",
    "    # Initialize target register to |1>\n",
    "    qc.x(target_qubits[0])\n",
    "\n",
    "    # Apply Hadamards to counting register\n",
    "    qc.h(counting_qubits)\n",
    "\n",
    "    # Task: Apply controlled-U^(2^j) gates for each counting qubit\n",
    "    for j in range(qcount):\n",
    "        power = 2**j\n",
    "        U_pow_gate = controlled_powered_unitary_gate(U, power)\n",
    "        qc.append(U_pow_gate, [counting_qubits[j]] + target_qubits)\n",
    "\n",
    "\n",
    "    \n",
    "\n",
    "    # Task: Apply inverse QFT on counting register\n",
    "    invqft = inverse_qft_circuit(qcount)\n",
    "    qc.compose(invqft, qubits=counting_qubits, inplace=True)\n",
    "\n",
    "    # Task: Add measurement of counting register\n",
    "    qc.measure(counting_qubits, list(range(qcount)))\n",
    "\n",
    "    # Running on simulator (already implemented)\n",
    "    sim = AerSimulator(seed_simulator=seed_sim)\n",
    "    transpiled = transpile(qc, sim, seed_transpiler=seed_sim)\n",
    "    result = sim.run(transpiled, shots=shots).result()\n",
    "    counts = result.get_counts()\n",
    "\n",
    "    y_int, y_str = get_most_likely_result(counts)\n",
    "    if verbose:\n",
    "        print(f\"Most frequent measurement (counting register): {y_str} -> int {y_int}\")\n",
    "\n",
    "    s, r_candidate = fraction_from_phase(y_int, qcount)\n",
    "    if verbose:\n",
    "        print(f\"Continued fraction approx: s={s}, r_candidate={r_candidate}\")\n",
    "\n",
    "    r = r_candidate\n",
    "    for mult in range(1, 11):\n",
    "        r_try = r * mult\n",
    "        if r_try != 0 and pow(a, r_try, N) == 1:\n",
    "            if verbose:\n",
    "                print(f\"Found order r = {r_try}\")\n",
    "            return r_try, counts\n",
    "    return None, counts"
   ]
  },
  {
   "cell_type": "markdown",
   "id": "19acdbc5",
   "metadata": {},
   "source": [
    "## Classical postprocessing\n",
    "\n",
    "After the quantum part finds the **order `r`** of `a mod N`, we need some **classical steps** to actually compute the factors of `N`. This section does that.\n",
    "\n",
    "Here’s what the function does:\n",
    "\n",
    "1. **Check for even numbers**  \n",
    "   - If `N` is even, it immediately returns `2` and `N/2` as factors.\n",
    "\n",
    "2. **Random bases and gcd check**  \n",
    "   - The function picks a random number `a` between `2` and `N-1`.  \n",
    "   - If `gcd(a, N) != 1`, we already found a non-trivial factor and can return it.\n",
    "\n",
    "3. **Quantum order finding**  \n",
    "   - Calls `shor_order_finding(N, a)` to get the order `r` of `a mod N`.  \n",
    "   - If `r` is `None` or odd, we skip this `a` and try another.\n",
    "\n",
    "4. **Compute potential factors**  \n",
    "   - Using the order `r`, compute `a^(r/2) ± 1`.  \n",
    "   - Take `gcd(a^(r/2) ± 1, N)` to extract possible non-trivial factors of `N`.  \n",
    "   - If we find valid factors (not `1` or `N`), return them.\n",
    "\n",
    "5. **Retries**  \n",
    "   - The process is repeated for a few random choices of `a` if the first attempts fail.\n"
   ]
  },
  {
   "cell_type": "code",
   "execution_count": 140,
   "id": "79f08439",
   "metadata": {},
   "outputs": [],
   "source": [
    "# ============================================================\n",
    "# Section 4: Classical postprocessing (already given)\n",
    "# ============================================================\n",
    "\n",
    "def shor_factor(N, shots=1024, tries=5, verbose=True):\n",
    "    if N % 2 == 0:\n",
    "        return 2, N // 2\n",
    "    for attempt in range(tries):\n",
    "        a = np.random.randint(2, N-1)\n",
    "        if math.gcd(a, N) != 1:\n",
    "            d = math.gcd(a, N)\n",
    "            return d, N // d\n",
    "\n",
    "        if verbose:\n",
    "            print(f\"Attempt {attempt+1}: trying base a = {a}\")\n",
    "\n",
    "        r, counts = shor_order_finding(N, a, shots=shots, verbose=verbose)\n",
    "        if r is None or r % 2 != 0:\n",
    "            continue\n",
    "\n",
    "        apow = pow(a, r // 2, N)\n",
    "        candidate1 = math.gcd(apow - 1, N)\n",
    "        candidate2 = math.gcd(apow + 1, N)\n",
    "\n",
    "        if candidate1 not in [1, N]:\n",
    "            return candidate1, N // candidate1\n",
    "        if candidate2 not in [1, N]:\n",
    "            return candidate2, N // candidate2\n",
    "    return None"
   ]
  },
  {
   "cell_type": "markdown",
   "id": "e8375804",
   "metadata": {},
   "source": [
    "## Test and Verify\n",
    "\n",
    "Now that all the pieces are in place, it’s time to **test your Shor’s algorithm implementation**.  \n",
    "\n",
    "Try factoring the following numbers:\n",
    "\n",
    "1. **N = 15**  \n",
    "   - Expected factors: `3` and `5`  \n",
    "\n",
    "2. **N = 21**  \n",
    "   - Expected factors: `3` and `7`  \n",
    "\n",
    "**Task:**  \n",
    "- Run the `shor_factor(N)` function for these numbers.  \n",
    "- Check if the factors returned match the expected outputs.  \n",
    "- If it works, your implementation of both the quantum order-finding and the classical post-processing is correct!  \n",
    "\n",
    "> ⚠️ Tip: Since this is a probabilistic quantum algorithm, you might need to run it a few times to get the correct factors.\n",
    "\n",
    "**Note for users:**\n",
    "\n",
    "When running this solution, you might see a warning like the following:\n",
    "\n",
    "`DeprecationWarning: The class qiskit.circuit.library.basis_change.qft.QFT is deprecated as of Qiskit 2.1. It will be removed in Qiskit 3.0. ('Use qiskit.circuit.library.QFTGate or qiskit.synthesis.qft.synth_qft_full instead, for access to all previous arguments.',)`\n",
    "\n",
    "This is just a **deprecation warning** because the QFT class we are using is marked for future removal in newer versions of Qiskit.  \n",
    "\n",
    "You can safely **ignore this warning** for now. The code will still work correctly on current versions of Qiskit.  \n",
    "\n",
    "In future, if you want to remove this warning, you can replace `QFT` with `QFTGate` or `synth_qft_full`.\n"
   ]
  },
  {
   "cell_type": "code",
   "execution_count": null,
   "id": "331faa45",
   "metadata": {},
   "outputs": [
    {
     "name": "stdout",
     "output_type": "stream",
     "text": [
      "Attempt 1: trying base a = 4\n"
     ]
    },
    {
     "name": "stderr",
     "output_type": "stream",
     "text": [
      "C:\\Users\\Veere\\AppData\\Local\\Temp\\ipykernel_46708\\910553436.py:38: DeprecationWarning: The class ``qiskit.circuit.library.basis_change.qft.QFT`` is deprecated as of Qiskit 2.1. It will be removed in Qiskit 3.0. ('Use qiskit.circuit.library.QFTGate or qiskit.synthesis.qft.synth_qft_full instead, for access to all previous arguments.',)\n",
      "  return QFT(num_qubits=n, inverse=True, do_swaps=True)\n"
     ]
    },
    {
     "name": "stdout",
     "output_type": "stream",
     "text": [
      "Most frequent measurement (counting register): 10000000 -> int 128\n",
      "Continued fraction approx: s=1, r_candidate=2\n",
      "Found order r = 2\n",
      "Factors of 15: (3, 5)\n",
      "Attempt 1: trying base a = 2\n",
      "Most frequent measurement (counting register): 1000000000 -> int 512\n",
      "Continued fraction approx: s=1, r_candidate=2\n",
      "Found order r = 6\n",
      "Factors of 21: (7, 3)\n"
     ]
    },
    {
     "ename": "",
     "evalue": "",
     "output_type": "error",
     "traceback": [
      "\u001b[1;31mThe Kernel crashed while executing code in the current cell or a previous cell. \n",
      "\u001b[1;31mPlease review the code in the cell(s) to identify a possible cause of the failure. \n",
      "\u001b[1;31mClick <a href='https://aka.ms/vscodeJupyterKernelCrash'>here</a> for more info. \n",
      "\u001b[1;31mView Jupyter <a href='command:jupyter.viewOutput'>log</a> for further details."
     ]
    }
   ],
   "source": [
    "# Test Shor's algorithm for N = 15 and N = 21\n",
    "factors_15 = shor_factor(15)\n",
    "print(\"Factors of 15:\", factors_15)  # Expected: 3 and 5\n",
    "\n",
    "factors_21 = shor_factor(21)\n",
    "print(\"Factors of 21:\", factors_21)  # Expected: 3 and 7"
   ]
  },
  {
   "cell_type": "markdown",
   "id": "c1c0ca7a",
   "metadata": {},
   "source": [
    "**Bonus Challenge: Implement Your Own QFT**\n",
    "\n",
    "As an optional exercise, you can try **implementing your own Quantum Fourier Transform (QFT) circuit** instead of using the built-in QFT class.  \n",
    "\n",
    "- You can write a function that applies **Hadamard gates and controlled phase rotations** manually to simulate QFT.\n",
    "- After implementing it, you can **replace the inverse QFT part** in the order-finding section with your own circuit.\n",
    "- Try running the algorithm **on a real quantum device** using IBM Quantum hardware, or **simulate noise** using `AerSimulator` with a noise model.\n",
    "- This will give you a better understanding of how QFT works and how noise affects quantum algorithms.\n",
    "\n",
    "**References for learning:**\n",
    "\n",
    "- QFT explanation: [Qiskit Textbook - Quantum Fourier Transform](https://qiskit.org/textbook/ch-algorithms/quantum-fourier-transform.html)  \n",
    "- Implementing QFT manually: [Qiskit Docs - QFTGate](https://qiskit.org/documentation/stubs/qiskit.circuit.library.QFTGate.html)  \n",
    "\n"
   ]
  }
 ],
 "metadata": {
  "kernelspec": {
   "display_name": "Python (qiskit-env)",
   "language": "python",
   "name": "qiskit-env"
  },
  "language_info": {
   "codemirror_mode": {
    "name": "ipython",
    "version": 3
   },
   "file_extension": ".py",
   "mimetype": "text/x-python",
   "name": "python",
   "nbconvert_exporter": "python",
   "pygments_lexer": "ipython3",
   "version": "3.11.9"
  }
 },
 "nbformat": 4,
 "nbformat_minor": 5
}
